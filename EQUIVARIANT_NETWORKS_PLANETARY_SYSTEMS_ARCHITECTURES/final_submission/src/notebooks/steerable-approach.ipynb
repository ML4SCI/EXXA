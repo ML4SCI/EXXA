{
 "cells": [
  {
   "cell_type": "markdown",
   "metadata": {},
   "source": [
    "### Introduction\n",
    "\n",
    "In this notebook, I trained the steerable architecture on all channel subsets."
   ]
  },
  {
   "cell_type": "code",
   "execution_count": null,
   "metadata": {},
   "outputs": [],
   "source": [
    "!apt-get update"
   ]
  },
  {
   "cell_type": "code",
   "execution_count": null,
   "metadata": {},
   "outputs": [],
   "source": [
    "!apt-get install build-essential libatomic1 gfortran perl wget m4 cmake pkg-config curl -y"
   ]
  },
  {
   "cell_type": "code",
   "execution_count": null,
   "metadata": {
    "execution": {
     "iopub.execute_input": "2024-09-11T18:10:53.218601Z",
     "iopub.status.busy": "2024-09-11T18:10:53.218195Z",
     "iopub.status.idle": "2024-09-11T18:10:58.919290Z",
     "shell.execute_reply": "2024-09-11T18:10:58.916462Z",
     "shell.execute_reply.started": "2024-09-11T18:10:53.218558Z"
    },
    "trusted": true
   },
   "outputs": [],
   "source": [
    "import wandb\n",
    "import utilities.metadata as metadata\n",
    "from dataset.dataset import PlanetaryDataset\n",
    "import os\n",
    "import torch\n",
    "import wandb\n",
    "from utilities.metadata import CHANNEL_SUBSETS\n",
    "from utilities.training import TRAIN_TRANSFORM, run_sweeps_for_channel_subsets"
   ]
  },
  {
   "cell_type": "markdown",
   "metadata": {},
   "source": [
    "### Wandb initialization"
   ]
  },
  {
   "cell_type": "code",
   "execution_count": null,
   "metadata": {
    "execution": {
     "iopub.status.busy": "2024-09-11T18:10:58.920310Z",
     "iopub.status.idle": "2024-09-11T18:10:58.920760Z",
     "shell.execute_reply": "2024-09-11T18:10:58.920566Z",
     "shell.execute_reply.started": "2024-09-11T18:10:58.920544Z"
    },
    "trusted": true
   },
   "outputs": [],
   "source": [
    "wandb.login(key=\"SUPERSECRETKEY\")\n",
    "sweep_id = wandb.sweep(metadata.SWEEP_CONFIG, project=\"eq_colab_2\")\n",
    "wandb.init()\n",
    "torch.cuda.empty_cache()\n",
    "os.environ[\"PYTORCH_CUDA_ALLOC_CONF\"] = \"expandable_segments:True\""
   ]
  },
  {
   "cell_type": "markdown",
   "metadata": {},
   "source": [
    "### Dataset"
   ]
  },
  {
   "cell_type": "code",
   "execution_count": null,
   "metadata": {
    "execution": {
     "iopub.status.busy": "2024-09-11T18:10:58.927632Z",
     "iopub.status.idle": "2024-09-11T18:10:58.928015Z",
     "shell.execute_reply": "2024-09-11T18:10:58.927840Z",
     "shell.execute_reply.started": "2024-09-11T18:10:58.927820Z"
    },
    "trusted": true
   },
   "outputs": [],
   "source": [
    "epochs = 10\n",
    "percentage_of_dataset = 1"
   ]
  },
  {
   "cell_type": "code",
   "execution_count": null,
   "metadata": {},
   "outputs": [],
   "source": [
    "dataset = PlanetaryDataset(\n",
    "    data_dir=\"/kaggle/input/gsoc-protoplanetary-disks/Train_Clean\",\n",
    "    csv_file=\"/kaggle/input/gsoc-protoplanetary-disks/train_info_cleaned.csv\",\n",
    "    channels=[],\n",
    "    transform=TRAIN_TRANSFORM,\n",
    ")"
   ]
  },
  {
   "cell_type": "markdown",
   "metadata": {},
   "source": [
    "### Training, Evaluation"
   ]
  },
  {
   "cell_type": "code",
   "execution_count": null,
   "metadata": {
    "execution": {
     "iopub.execute_input": "2024-09-11T18:12:04.681985Z",
     "iopub.status.busy": "2024-09-11T18:12:04.681585Z"
    },
    "trusted": true
   },
   "outputs": [],
   "source": [
    "trained_models = {}\n",
    "\n",
    "run_sweeps_for_channel_subsets(\n",
    "    percentage_of_dataset, trained_models, CHANNEL_SUBSETS, sweep_id, dataset\n",
    ")"
   ]
  },
  {
   "cell_type": "markdown",
   "metadata": {},
   "source": [
    "### Save models to file"
   ]
  },
  {
   "cell_type": "code",
   "execution_count": null,
   "metadata": {
    "execution": {
     "iopub.status.busy": "2024-09-11T18:10:58.930740Z",
     "iopub.status.idle": "2024-09-11T18:10:58.931174Z",
     "shell.execute_reply": "2024-09-11T18:10:58.930957Z",
     "shell.execute_reply.started": "2024-09-11T18:10:58.930937Z"
    },
    "trusted": true
   },
   "outputs": [],
   "source": [
    "save_dir = \"best_saved_models\"\n",
    "os.makedirs(save_dir, exist_ok=True)\n",
    "for key, val in trained_models.items():\n",
    "    model_file_path = os.path.join(\n",
    "        save_dir, f\"model_channels_{'_'.join(map(str, key))}.pt\"\n",
    "    )\n",
    "    torch.save(val[0].state_dict(), model_file_path)\n",
    "    print(f\"Model saved to {model_file_path}\")"
   ]
  },
  {
   "cell_type": "code",
   "execution_count": null,
   "metadata": {
    "execution": {
     "iopub.status.busy": "2024-09-11T18:10:58.938989Z",
     "iopub.status.idle": "2024-09-11T18:10:58.939444Z",
     "shell.execute_reply": "2024-09-11T18:10:58.939258Z",
     "shell.execute_reply.started": "2024-09-11T18:10:58.939236Z"
    },
    "trusted": true
   },
   "outputs": [],
   "source": [
    "wandb.finish()"
   ]
  }
 ],
 "metadata": {
  "kaggle": {
   "accelerator": "nvidiaTeslaT4",
   "dataSources": [
    {
     "datasetId": 5412597,
     "sourceId": 9051885,
     "sourceType": "datasetVersion"
    },
    {
     "isSourceIdPinned": true,
     "modelId": 117887,
     "modelInstanceId": 93676,
     "sourceId": 112389,
     "sourceType": "modelInstanceVersion"
    }
   ],
   "dockerImageVersionId": 30762,
   "isGpuEnabled": true,
   "isInternetEnabled": true,
   "language": "python",
   "sourceType": "notebook"
  },
  "kernelspec": {
   "display_name": "Python 3",
   "language": "python",
   "name": "python3"
  },
  "language_info": {
   "codemirror_mode": {
    "name": "ipython",
    "version": 3
   },
   "file_extension": ".py",
   "mimetype": "text/x-python",
   "name": "python",
   "nbconvert_exporter": "python",
   "pygments_lexer": "ipython3",
   "version": "3.10.14"
  }
 },
 "nbformat": 4,
 "nbformat_minor": 4
}

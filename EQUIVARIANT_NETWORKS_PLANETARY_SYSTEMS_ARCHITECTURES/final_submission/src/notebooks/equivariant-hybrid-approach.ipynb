{
 "cells": [
  {
   "cell_type": "markdown",
   "metadata": {},
   "source": [
    "### Wandb initialization"
   ]
  },
  {
   "cell_type": "code",
   "execution_count": null,
   "metadata": {
    "execution": {
     "iopub.execute_input": "2024-09-06T17:59:50.391726Z",
     "iopub.status.busy": "2024-09-06T17:59:50.391407Z",
     "iopub.status.idle": "2024-09-06T17:59:55.027939Z",
     "shell.execute_reply": "2024-09-06T17:59:55.026970Z",
     "shell.execute_reply.started": "2024-09-06T17:59:50.391697Z"
    },
    "trusted": true
   },
   "outputs": [],
   "source": [
    "import wandb\n",
    "import utilities.metadata as metadata\n",
    "import os\n",
    "import torch\n",
    "import wandb\n",
    "from models.models import EquivariantHybridModel\n",
    "from utilities.training import TRAIN_TRANSFORM, run_sweeps_for_channel_subsets\n",
    "from dataset.dataset import PlanetaryDataset"
   ]
  },
  {
   "cell_type": "markdown",
   "metadata": {},
   "source": [
    "### Wandb initialization"
   ]
  },
  {
   "cell_type": "code",
   "execution_count": null,
   "metadata": {},
   "outputs": [],
   "source": [
    "wandb.login(key=\"SUPERSECRETKEY\")\n",
    "sweep_id = wandb.sweep(metadata.SWEEP_CONFIG, project=\"eq_colab_2\")\n",
    "wandb.init()\n",
    "torch.cuda.empty_cache()\n",
    "os.environ[\"PYTORCH_CUDA_ALLOC_CONF\"] = \"expandable_segments:True\""
   ]
  },
  {
   "cell_type": "markdown",
   "metadata": {},
   "source": [
    "### Dataset"
   ]
  },
  {
   "cell_type": "code",
   "execution_count": null,
   "metadata": {},
   "outputs": [],
   "source": [
    "epochs = 10\n",
    "percentage_of_dataset = 1"
   ]
  },
  {
   "cell_type": "code",
   "execution_count": null,
   "metadata": {},
   "outputs": [],
   "source": [
    "dataset = PlanetaryDataset(\n",
    "    data_dir=\"/kaggle/input/gsoc-protoplanetary-disks/Train_Clean\",\n",
    "    csv_file=\"/kaggle/input/gsoc-protoplanetary-disks/train_info_cleaned.csv\",\n",
    "    channels=[],\n",
    "    transform=TRAIN_TRANSFORM,\n",
    ")"
   ]
  },
  {
   "cell_type": "code",
   "execution_count": null,
   "metadata": {
    "execution": {
     "iopub.execute_input": "2024-09-06T18:00:03.894489Z",
     "iopub.status.busy": "2024-09-06T18:00:03.894124Z",
     "iopub.status.idle": "2024-09-06T18:04:38.866875Z",
     "shell.execute_reply": "2024-09-06T18:04:38.865866Z",
     "shell.execute_reply.started": "2024-09-06T18:00:03.894459Z"
    },
    "trusted": true
   },
   "outputs": [],
   "source": [
    "torch.backends.cudnn.benchmark = True\n",
    "\n",
    "model = EquivariantHybridModel(\n",
    "    num_classes=2, lr=0.001, weight_decay=0.0001, num_channels=1\n",
    ")\n",
    "model.to(\"cuda\")\n",
    "\n",
    "trained_models = {}\n",
    "\n",
    "run_sweeps_for_channel_subsets(\n",
    "    percentage_of_dataset,\n",
    "    trained_models,\n",
    "    metadata.CHANNEL_SUBSETS,\n",
    "    sweep_id,\n",
    "    dataset,\n",
    "    \"equivariant_hybrid\",\n",
    ")"
   ]
  },
  {
   "cell_type": "code",
   "execution_count": 17,
   "metadata": {
    "execution": {
     "iopub.execute_input": "2024-09-06T18:05:35.491476Z",
     "iopub.status.busy": "2024-09-06T18:05:35.491217Z",
     "iopub.status.idle": "2024-09-06T18:05:35.500720Z",
     "shell.execute_reply": "2024-09-06T18:05:35.499860Z",
     "shell.execute_reply.started": "2024-09-06T18:05:35.491453Z"
    },
    "trusted": true
   },
   "outputs": [],
   "source": [
    "wandb.finish()"
   ]
  }
 ],
 "metadata": {
  "kaggle": {
   "accelerator": "nvidiaTeslaT4",
   "dataSources": [
    {
     "datasetId": 5412597,
     "sourceId": 9051885,
     "sourceType": "datasetVersion"
    }
   ],
   "dockerImageVersionId": 30747,
   "isGpuEnabled": true,
   "isInternetEnabled": true,
   "language": "python",
   "sourceType": "notebook"
  },
  "kernelspec": {
   "display_name": "Python 3",
   "language": "python",
   "name": "python3"
  },
  "language_info": {
   "codemirror_mode": {
    "name": "ipython",
    "version": 3
   },
   "file_extension": ".py",
   "mimetype": "text/x-python",
   "name": "python",
   "nbconvert_exporter": "python",
   "pygments_lexer": "ipython3",
   "version": "3.10.13"
  }
 },
 "nbformat": 4,
 "nbformat_minor": 4
}
